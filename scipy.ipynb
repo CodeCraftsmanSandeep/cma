{
 "cells": [
  {
   "cell_type": "code",
   "execution_count": null,
   "metadata": {},
   "outputs": [],
   "source": [
    "#  scipy.linalg.solve(S, b)\n",
    "#  returns a where Sa = b"
   ]
  }
 ],
 "metadata": {
  "language_info": {
   "name": "python"
  }
 },
 "nbformat": 4,
 "nbformat_minor": 2
}
