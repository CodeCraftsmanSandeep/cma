{
 "cells": [
  {
   "cell_type": "code",
   "execution_count": 4,
   "metadata": {},
   "outputs": [
    {
     "data": {
      "text/plain": [
       "2"
      ]
     },
     "execution_count": 4,
     "metadata": {},
     "output_type": "execute_result"
    }
   ],
   "source": [
    "import queue\n",
    "\n",
    "class Graph:\n",
    "    def __init__(self, n):\n",
    "        # vertices are 1, 2, 3, .., n\n",
    "        self.adj_list = dict()\n",
    "        self.n = n\n",
    "        \n",
    "        for v in range(1, n+1):\n",
    "            self.adj_list[v] = []\n",
    "    \n",
    "    def add_edge(self, u, v):\n",
    "        self.adj_list[u].append(v)\n",
    "        self.adj_list[v].append(u)\n",
    "        return\n",
    "        \n",
    "    def compute_min_distance(self, U, v):\n",
    "        # Computes d[v]\n",
    "        present = dict()\n",
    "        for u in U:\n",
    "            present[u] = True\n",
    "        if present.get(v) != None:\n",
    "            return 0\n",
    "        \n",
    "        visited = [False for _ in range(self.n+1)]\n",
    "        dis = float(\"inf\")\n",
    "        q = queue.Queue()\n",
    "        q.put(v)\n",
    "        visited[v] = True\n",
    "        level = 0\n",
    "        while q.empty() == False:\n",
    "            vertices_count = q.qsize()\n",
    "            \n",
    "            # Finding next level vertices ->\n",
    "            while vertices_count > 0:\n",
    "                u = q.get()\n",
    "                for v in self.adj_list[u]:\n",
    "                    if present.get(v) != None:\n",
    "                        dis = level + 1\n",
    "                        return dis\n",
    "                    \n",
    "                    if visited[v] == False:\n",
    "                        q.put(v)\n",
    "                \n",
    "                vertices_count -= 1\n",
    "            level += 1\n",
    "        return dis\n",
    "\n",
    "g = Graph(4)\n",
    "g.add_edge(1, 2)\n",
    "g.add_edge(2, 3)\n",
    "g.add_edge(3, 4)\n",
    "g.add_edge(1, 3)\n",
    "g.compute_min_distance([4], 1)"
   ]
  },
  {
   "cell_type": "code",
   "execution_count": null,
   "metadata": {},
   "outputs": [],
   "source": []
  }
 ],
 "metadata": {
  "kernelspec": {
   "display_name": "Python 3",
   "language": "python",
   "name": "python3"
  },
  "language_info": {
   "codemirror_mode": {
    "name": "ipython",
    "version": 3
   },
   "file_extension": ".py",
   "mimetype": "text/x-python",
   "name": "python",
   "nbconvert_exporter": "python",
   "pygments_lexer": "ipython3",
   "version": "3.10.12"
  }
 },
 "nbformat": 4,
 "nbformat_minor": 2
}
