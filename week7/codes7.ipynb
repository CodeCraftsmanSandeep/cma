{
 "cells": [
  {
   "cell_type": "code",
   "execution_count": null,
   "metadata": {},
   "outputs": [],
   "source": []
  },
  {
   "cell_type": "markdown",
   "metadata": {},
   "source": [
    "Question 1) <br/>\n",
    "The following PDE governs heat conduction in a unit length rod with unit thermal diffusivity\n",
    "∂u(x,t)\n",
    "∂t = ∂2u(x,t)\n",
    "    ∂x2\n",
    "with boundary condition\n",
    "u(0,t) = u(1,t) = 0 ∀t > 0\n",
    "Write a function to visualize (through an animation) heat conduction in the rod; initial\n",
    "condition u(x,0) = e−x ∀x ∈[0,1]."
   ]
  },
  {
   "cell_type": "markdown",
   "metadata": {},
   "source": []
  }
 ],
 "metadata": {
  "language_info": {
   "name": "python"
  }
 },
 "nbformat": 4,
 "nbformat_minor": 2
}
